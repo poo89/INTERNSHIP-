{
 "cells": [
  {
   "cell_type": "code",
   "execution_count": 9,
   "id": "da613aa9",
   "metadata": {},
   "outputs": [],
   "source": [
    "import selenium\n",
    "import pandas as pd\n",
    "from selenium import webdriver\n",
    "from selenium.webdriver.common.by import By\n",
    "import time \n",
    "import warnings\n",
    "warnings.filterwarnings(\"ignore\")"
   ]
  },
  {
   "cell_type": "code",
   "execution_count": 10,
   "id": "95c3f5fd",
   "metadata": {},
   "outputs": [],
   "source": [
    "driver = webdriver.Chrome(r\"C:\\Users\\vorap\\OneDrive\\Desktop\\chromedriver.exe\")"
   ]
  },
  {
   "cell_type": "code",
   "execution_count": 11,
   "id": "77e24457",
   "metadata": {},
   "outputs": [],
   "source": [
    "driver.get(\"https://www.naukri.com/\")"
   ]
  },
  {
   "cell_type": "code",
   "execution_count": 12,
   "id": "eb6bcf48",
   "metadata": {},
   "outputs": [],
   "source": [
    "skill=driver.find_element(By.CLASS_NAME,\"suggestor-input \")\n",
    "skill.send_keys(\"Data Analyst\")"
   ]
  },
  {
   "cell_type": "code",
   "execution_count": 13,
   "id": "ab322470",
   "metadata": {},
   "outputs": [],
   "source": [
    "location = driver.find_element(By.XPATH, \"/html/body/div[1]/div[7]/div/div[1]/div[5]/div/div/div/div[1]/div/input\")\n",
    "location.send_keys(\"Bangalore\")\n"
   ]
  },
  {
   "cell_type": "code",
   "execution_count": 14,
   "id": "5302819f",
   "metadata": {},
   "outputs": [],
   "source": [
    "search= driver.find_element(By.CLASS_NAME,\"qsbSubmit\")\n",
    "search.click()"
   ]
  },
  {
   "cell_type": "code",
   "execution_count": 17,
   "id": "c70449d0",
   "metadata": {},
   "outputs": [],
   "source": [
    "job_title=[]\n",
    "job_location=[]\n",
    "company_name=[]\n",
    "experience=[]\n",
    "\n",
    "title_tags=driver.find_elements(By.XPATH,'//a[@class=\"title ellipsis\"]')\n",
    "for i in title_tags[0:10]:\n",
    "    title=i.text\n",
    "    job_title.append(title)\n",
    "\n",
    "location=driver.find_elements(By.XPATH,'//span[@class=\"ellipsis fleft locWdth\"]')\n",
    "for i in location[0:10]:\n",
    "    loc=i.text\n",
    "    job_location.append(loc)\n",
    "    \n",
    "company=driver.find_elements(By.XPATH,'//a[@class=\"subTitle ellipsis fleft\"]')\n",
    "for i in company[0:10]:\n",
    "    comp=i.text\n",
    "    company_name.append(comp)\n",
    "    \n",
    "expri=driver.find_elements(By.XPATH,'//span[@class=\"ellipsis fleft expwdth\"]')\n",
    "for i in expri[0:10]:\n",
    "    exp=i.text\n",
    "    experience.append(exp)\n",
    "    "
   ]
  },
  {
   "cell_type": "code",
   "execution_count": 18,
   "id": "8b9a3cca",
   "metadata": {},
   "outputs": [
    {
     "data": {
      "text/plain": [
       "10"
      ]
     },
     "execution_count": 18,
     "metadata": {},
     "output_type": "execute_result"
    }
   ],
   "source": [
    "len(job_title)"
   ]
  },
  {
   "cell_type": "code",
   "execution_count": 19,
   "id": "1b73102e",
   "metadata": {},
   "outputs": [
    {
     "data": {
      "text/html": [
       "<div>\n",
       "<style scoped>\n",
       "    .dataframe tbody tr th:only-of-type {\n",
       "        vertical-align: middle;\n",
       "    }\n",
       "\n",
       "    .dataframe tbody tr th {\n",
       "        vertical-align: top;\n",
       "    }\n",
       "\n",
       "    .dataframe thead th {\n",
       "        text-align: right;\n",
       "    }\n",
       "</style>\n",
       "<table border=\"1\" class=\"dataframe\">\n",
       "  <thead>\n",
       "    <tr style=\"text-align: right;\">\n",
       "      <th></th>\n",
       "      <th>Title</th>\n",
       "      <th>Location</th>\n",
       "      <th>Company</th>\n",
       "      <th>Exprienece</th>\n",
       "    </tr>\n",
       "  </thead>\n",
       "  <tbody>\n",
       "    <tr>\n",
       "      <th>0</th>\n",
       "      <td>Tech Data Analyst</td>\n",
       "      <td>Hybrid - Bangalore/ Bengaluru, Karnataka, Gurg...</td>\n",
       "      <td>Wipro</td>\n",
       "      <td>3-6 Yrs</td>\n",
       "    </tr>\n",
       "    <tr>\n",
       "      <th>1</th>\n",
       "      <td>Data Analyst</td>\n",
       "      <td>Bangalore/Bengaluru</td>\n",
       "      <td>Brunel</td>\n",
       "      <td>4-6 Yrs</td>\n",
       "    </tr>\n",
       "    <tr>\n",
       "      <th>2</th>\n",
       "      <td>Celonis &amp; Salesforce Data Analyst</td>\n",
       "      <td>Bangalore/Bengaluru, Chennai</td>\n",
       "      <td>Hitachi Energy</td>\n",
       "      <td>3-6 Yrs</td>\n",
       "    </tr>\n",
       "    <tr>\n",
       "      <th>3</th>\n",
       "      <td>Knowledge Data Analyst</td>\n",
       "      <td>Bangalore/Bengaluru</td>\n",
       "      <td>SAP</td>\n",
       "      <td>4-6 Yrs</td>\n",
       "    </tr>\n",
       "    <tr>\n",
       "      <th>4</th>\n",
       "      <td>Data Analyst</td>\n",
       "      <td>Bangalore/Bengaluru, Kolkata, Hyderabad/Secund...</td>\n",
       "      <td>Tata Consultancy Services (TCS)</td>\n",
       "      <td>5-10 Yrs</td>\n",
       "    </tr>\n",
       "    <tr>\n",
       "      <th>5</th>\n",
       "      <td>Data Analyst</td>\n",
       "      <td>Bangalore/ Bengaluru, Karnataka</td>\n",
       "      <td>Artech</td>\n",
       "      <td>5-8 Yrs</td>\n",
       "    </tr>\n",
       "    <tr>\n",
       "      <th>6</th>\n",
       "      <td>Data Analyst (Bangalore)</td>\n",
       "      <td>Bangalore/Bengaluru</td>\n",
       "      <td>Krazy Mantra</td>\n",
       "      <td>7-12 Yrs</td>\n",
       "    </tr>\n",
       "    <tr>\n",
       "      <th>7</th>\n",
       "      <td>Insight Data Analyst</td>\n",
       "      <td>Bangalore/ Bengaluru, Karnataka, Noida, Uttar ...</td>\n",
       "      <td>Vuca Consulting</td>\n",
       "      <td>5-10 Yrs</td>\n",
       "    </tr>\n",
       "    <tr>\n",
       "      <th>8</th>\n",
       "      <td>Data Analyst</td>\n",
       "      <td>Bangalore/Bengaluru</td>\n",
       "      <td>Loyalytics Consulting</td>\n",
       "      <td>4-9 Yrs</td>\n",
       "    </tr>\n",
       "    <tr>\n",
       "      <th>9</th>\n",
       "      <td>Data Analyst</td>\n",
       "      <td>Bangalore/Bengaluru</td>\n",
       "      <td>Clairvoyant India Pvt. Ltd</td>\n",
       "      <td>3-6 Yrs</td>\n",
       "    </tr>\n",
       "  </tbody>\n",
       "</table>\n",
       "</div>"
      ],
      "text/plain": [
       "                               Title  \\\n",
       "0                  Tech Data Analyst   \n",
       "1                       Data Analyst   \n",
       "2  Celonis & Salesforce Data Analyst   \n",
       "3             Knowledge Data Analyst   \n",
       "4                       Data Analyst   \n",
       "5                       Data Analyst   \n",
       "6           Data Analyst (Bangalore)   \n",
       "7               Insight Data Analyst   \n",
       "8                       Data Analyst   \n",
       "9                       Data Analyst   \n",
       "\n",
       "                                            Location  \\\n",
       "0  Hybrid - Bangalore/ Bengaluru, Karnataka, Gurg...   \n",
       "1                                Bangalore/Bengaluru   \n",
       "2                       Bangalore/Bengaluru, Chennai   \n",
       "3                                Bangalore/Bengaluru   \n",
       "4  Bangalore/Bengaluru, Kolkata, Hyderabad/Secund...   \n",
       "5                    Bangalore/ Bengaluru, Karnataka   \n",
       "6                                Bangalore/Bengaluru   \n",
       "7  Bangalore/ Bengaluru, Karnataka, Noida, Uttar ...   \n",
       "8                                Bangalore/Bengaluru   \n",
       "9                                Bangalore/Bengaluru   \n",
       "\n",
       "                           Company Exprienece  \n",
       "0                            Wipro    3-6 Yrs  \n",
       "1                           Brunel    4-6 Yrs  \n",
       "2                   Hitachi Energy    3-6 Yrs  \n",
       "3                              SAP    4-6 Yrs  \n",
       "4  Tata Consultancy Services (TCS)   5-10 Yrs  \n",
       "5                           Artech    5-8 Yrs  \n",
       "6                     Krazy Mantra   7-12 Yrs  \n",
       "7                  Vuca Consulting   5-10 Yrs  \n",
       "8            Loyalytics Consulting    4-9 Yrs  \n",
       "9       Clairvoyant India Pvt. Ltd    3-6 Yrs  "
      ]
     },
     "execution_count": 19,
     "metadata": {},
     "output_type": "execute_result"
    }
   ],
   "source": [
    "df=pd.DataFrame({\"Title\":job_title,\"Location\":job_location,\"Company\":company_name,\"Exprienece\":experience})\n",
    "df"
   ]
  },
  {
   "cell_type": "code",
   "execution_count": null,
   "id": "a96a6ca2",
   "metadata": {},
   "outputs": [],
   "source": []
  },
  {
   "cell_type": "code",
   "execution_count": null,
   "id": "013fae3d",
   "metadata": {},
   "outputs": [],
   "source": []
  }
 ],
 "metadata": {
  "kernelspec": {
   "display_name": "Python 3 (ipykernel)",
   "language": "python",
   "name": "python3"
  },
  "language_info": {
   "codemirror_mode": {
    "name": "ipython",
    "version": 3
   },
   "file_extension": ".py",
   "mimetype": "text/x-python",
   "name": "python",
   "nbconvert_exporter": "python",
   "pygments_lexer": "ipython3",
   "version": "3.10.9"
  }
 },
 "nbformat": 4,
 "nbformat_minor": 5
}
